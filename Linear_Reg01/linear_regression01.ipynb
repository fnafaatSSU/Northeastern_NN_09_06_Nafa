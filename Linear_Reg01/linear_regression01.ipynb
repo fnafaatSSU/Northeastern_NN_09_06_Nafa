{
  "cells": [
    {
      "cell_type": "markdown",
      "metadata": {
        "id": "Z9PwoprDYWa4"
      },
      "source": [
        "<h2 style=\"color:green\" align=\"center\">Machine Learning With Python: Linear Regression With One Variable</h2>"
      ]
    },
    {
      "cell_type": "markdown",
      "metadata": {
        "id": "bvBEMbWbYWa5"
      },
      "source": [
        "<h3 style=\"color:purple\">Sample problem of predicting home price </h3>"
      ]
    },
    {
      "cell_type": "markdown",
      "metadata": {
        "id": "_1KDsCMcYWa6"
      },
      "source": [
        "<img src=\"linear_equation.png\" >"
      ]
    },
    {
      "cell_type": "code",
      "execution_count": null,
      "metadata": {
        "id": "Flr1VcIhYWa6"
      },
      "outputs": [],
      "source": [
        "import pandas as pd\n",
        "import numpy as np\n",
        "from sklearn import linear_model\n",
        "import matplotlib.pyplot as plt"
      ]
    },
    {
      "cell_type": "code",
      "execution_count": null,
      "metadata": {
        "id": "nZZNzYH1YWa6"
      },
      "outputs": [],
      "source": [
        "df = pd.read_csv('homeprices.csv')\n",
        "df"
      ]
    },
    {
      "cell_type": "code",
      "execution_count": null,
      "metadata": {
        "id": "xn14wEQbYWa7"
      },
      "outputs": [],
      "source": [
        "%matplotlib inline\n",
        "plt.xlabel('area')\n",
        "plt.ylabel('price')\n",
        "plt.scatter(df.area,df.price,color='red',marker='+')"
      ]
    },
    {
      "cell_type": "code",
      "execution_count": null,
      "metadata": {
        "id": "5bHIpVp2YWa7"
      },
      "outputs": [],
      "source": [
        "new_df = df.drop('price',axis='columns')\n",
        "new_df"
      ]
    },
    {
      "cell_type": "code",
      "execution_count": null,
      "metadata": {
        "id": "bRYoTNinYWa7"
      },
      "outputs": [],
      "source": [
        "price = df.price\n",
        "price"
      ]
    },
    {
      "cell_type": "code",
      "execution_count": null,
      "metadata": {
        "id": "6GroGVMfYWa7"
      },
      "outputs": [],
      "source": [
        "# Create linear regression object\n",
        "reg = linear_model.LinearRegression()\n",
        "reg.fit(new_df,price)"
      ]
    },
    {
      "cell_type": "markdown",
      "metadata": {
        "id": "pSz4ZslYYWa7"
      },
      "source": [
        "**(1) Predict price of a home with area = 3300 sqr ft**"
      ]
    },
    {
      "cell_type": "code",
      "execution_count": null,
      "metadata": {
        "scrolled": true,
        "id": "KTvnRd1pYWa7",
        "outputId": "dc95c2c9-22d8-4eb7-edba-158589661a20"
      },
      "outputs": [
        {
          "data": {
            "text/plain": [
              "array([628715.75342466])"
            ]
          },
          "execution_count": 10,
          "metadata": {},
          "output_type": "execute_result"
        }
      ],
      "source": [
        "reg.predict([[3300]])"
      ]
    },
    {
      "cell_type": "code",
      "execution_count": null,
      "metadata": {
        "id": "oMzClog5YWa7"
      },
      "outputs": [],
      "source": [
        "reg.coef_"
      ]
    },
    {
      "cell_type": "code",
      "execution_count": null,
      "metadata": {
        "scrolled": true,
        "id": "OSlufMwTYWa8"
      },
      "outputs": [],
      "source": [
        "reg.intercept_"
      ]
    },
    {
      "cell_type": "markdown",
      "metadata": {
        "id": "xfkh8QRHYWa8"
      },
      "source": [
        "**Y = m * X + b (m is coefficient and b is intercept)**"
      ]
    },
    {
      "cell_type": "code",
      "execution_count": null,
      "metadata": {
        "scrolled": true,
        "id": "-zdYeAtlYWa8"
      },
      "outputs": [],
      "source": [
        "3300*135.78767123 + 180616.43835616432"
      ]
    },
    {
      "cell_type": "markdown",
      "metadata": {
        "id": "nsU-0r77YWa8"
      },
      "source": [
        "**(1) Predict price of a home with area = 5000 sqr ft**"
      ]
    },
    {
      "cell_type": "code",
      "execution_count": null,
      "metadata": {
        "id": "uWCY2DRkYWa8"
      },
      "outputs": [],
      "source": [
        "reg.predict([[5000]])"
      ]
    },
    {
      "cell_type": "markdown",
      "metadata": {
        "id": "oCb17uOWYWa8"
      },
      "source": [
        "<h3 style=\"color:purple\">Generate CSV file with list of home price predictions</h3>"
      ]
    },
    {
      "cell_type": "code",
      "execution_count": null,
      "metadata": {
        "id": "j1lEEQQQYWa8"
      },
      "outputs": [],
      "source": [
        "area_df = pd.read_csv(\"areas.csv\")\n",
        "area_df.head(3)"
      ]
    },
    {
      "cell_type": "code",
      "execution_count": null,
      "metadata": {
        "id": "Gyx-2_TxYWa8"
      },
      "outputs": [],
      "source": [
        "p = reg.predict(area_df)\n",
        "p"
      ]
    },
    {
      "cell_type": "code",
      "execution_count": null,
      "metadata": {
        "id": "h1qzqOxaYWa8"
      },
      "outputs": [],
      "source": [
        "area_df['prices']=p\n",
        "area_df"
      ]
    },
    {
      "cell_type": "code",
      "execution_count": null,
      "metadata": {
        "id": "zbcoZq3dYWa8"
      },
      "outputs": [],
      "source": [
        "area_df.to_csv(\"prediction.csv\")"
      ]
    }
  ],
  "metadata": {
    "kernelspec": {
      "display_name": "Python 3",
      "language": "python",
      "name": "python3"
    },
    "language_info": {
      "codemirror_mode": {
        "name": "ipython",
        "version": 3
      },
      "file_extension": ".py",
      "mimetype": "text/x-python",
      "name": "python",
      "nbconvert_exporter": "python",
      "pygments_lexer": "ipython3",
      "version": "3.7.3"
    },
    "colab": {
      "provenance": []
    }
  },
  "nbformat": 4,
  "nbformat_minor": 0
}